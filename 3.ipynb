{
 "cells": [
  {
   "cell_type": "code",
   "execution_count": 2,
   "metadata": {
    "collapsed": true
   },
   "outputs": [],
   "source": [
    "# 3.1.\n",
    "\n",
    "\n",
    "import numpy as np\n",
    "import numpy.linalg as nlg\n",
    "import scipy.linalg as slg\n",
    "from typing import Tuple, Callable\n",
    "from time import time\n",
    "\n",
    "\n",
    "def solve1(A: np.array, f: np.array) -> np.array:\n",
    "    return nlg.solve(A, f)\n",
    "\n",
    "\n",
    "def solve2(A: np.array, f: np.array) -> np.array:\n",
    "    return nlg.inv(A) @ f\n",
    "\n",
    "\n",
    "def solve3(A: np.array, f: np.array) -> np.array:\n",
    "    P, L, U = slg.lu(A)\n",
    "    f_perm = P @ f\n",
    "    l = slg.solve_triangular(L, f_perm, lower=True)\n",
    "    u = slg.solve_triangular(U, l)\n",
    "    \n",
    "    return u\n",
    "\n",
    "\n",
    "def solve4(A: np.array, f: np.array) -> np.array:\n",
    "    L = nlg.cholesky(A)\n",
    "    l = slg.solve_triangular(L, f, lower=True)\n",
    "    l_herm = slg.solve_triangular(L.conj().T, l)\n",
    "    \n",
    "    return l_herm\n",
    "\n",
    "\n",
    "def measure_runtime(solve: Callable[[np.array, np.array], np.array],\n",
    "                    A: np.array, f: np.array) -> Tuple[np.array, float]:\n",
    "    start = time()\n",
    "    x = solve(A, f)\n",
    "    finish = time()\n",
    "    return x, finish - start\n",
    "\n",
    "\n",
    "def err_norm(x: np.array, y: np.array) -> float:\n",
    "    return nlg.norm(x - y) / nlg.norm(x)\n",
    "\n",
    "\n",
    "def res_norm(f: np.array, Ax: np.array) -> float:\n",
    "    return nlg.norm(f - Ax) / nlg.norm(f)\n",
    "\n",
    "\n",
    "def matrix_norm(A: np.array) -> float:\n",
    "    return nlg.norm(A, 2) * nlg.norm(nlg.inv(A), 2)\n",
    "\n",
    "\n",
    "def print_stats(solve: Callable[[np.array, np.array], np.array],\n",
    "                A: np.array, y: np.array) -> None:\n",
    "    f = A @ y\n",
    "    x, runtime = measure_runtime(solve, A, f)\n",
    "    print(f\"Runtime: {runtime}\")\n",
    "    print(f\"Error norm: {err_norm(x, y)}\")\n",
    "    print(f\"Residuum norm: {res_norm(f, A @ x)}\")\n",
    "    if A.shape[0] <= 100 and A.shape[1] <= 100:\n",
    "        print(f\"Matrix A norm: {matrix_norm(A)}\")\n",
    "\n",
    "\n",
    "def compare_solvers(A: np.array, y: np.array) -> None:\n",
    "    print_stats(solve1, A, y)\n",
    "    print_stats(solve2, A, y)\n",
    "    print_stats(solve3, A, y)\n",
    "    print_stats(solve4, A, y)\n"
   ]
  },
  {
   "cell_type": "code",
   "execution_count": null,
   "metadata": {},
   "outputs": [],
   "source": [
    "# 3.2.\n",
    "\n",
    "\n"
   ]
  }
 ],
 "metadata": {
  "kernelspec": {
   "display_name": "Python 2",
   "language": "python",
   "name": "python2"
  },
  "language_info": {
   "codemirror_mode": {
    "name": "ipython",
    "version": 2
   },
   "file_extension": ".py",
   "mimetype": "text/x-python",
   "name": "python",
   "nbconvert_exporter": "python",
   "pygments_lexer": "ipython2",
   "version": "2.7.6"
  }
 },
 "nbformat": 4,
 "nbformat_minor": 0
}
