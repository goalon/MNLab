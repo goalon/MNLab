{
 "cells": [
  {
   "cell_type": "code",
   "execution_count": null,
   "metadata": {
    "collapsed": true
   },
   "outputs": [],
   "source": [
    "# 3.1.\n",
    "\n",
    "import numpy as np\n",
    "import numpy.linalg as nlg\n",
    "import scipy.linalg as slg\n",
    "\n",
    "\n",
    "def solve1(A: np.array, f: np.array) -> np.array:\n",
    "    return nlg.solve(A, f)\n",
    "\n",
    "\n",
    "def solve2(A: np.array, f: np.array) -> np.array:\n",
    "    return nlg.inv(A) @ f\n",
    "\n",
    "\n",
    "def solve3(A: np.array, f: np.array) -> np.array:\n",
    "    P, L, U = slg.lu(A)\n",
    "    f_perm = P @ f\n",
    "    l = slg.solve_triangular(L, f_perm, lower=True)\n",
    "    u = slg.solve_triangular(U, l)\n",
    "    \n",
    "    return u\n",
    "\n",
    "\n",
    "def solve4(A: np.array, f: np.array) -> np.array:\n",
    "    L = nlg.cholesky(A)\n",
    "    l = slg.solve_triangular(L, f, lower=True)\n",
    "    l_herm = slg.solve_triangular(L.conj().T, l, lower=True)\n",
    "    \n",
    "    return l_herm\n"
   ]
  }
 ],
 "metadata": {
  "kernelspec": {
   "display_name": "Python 2",
   "language": "python",
   "name": "python2"
  },
  "language_info": {
   "codemirror_mode": {
    "name": "ipython",
    "version": 2
   },
   "file_extension": ".py",
   "mimetype": "text/x-python",
   "name": "python",
   "nbconvert_exporter": "python",
   "pygments_lexer": "ipython2",
   "version": "2.7.6"
  }
 },
 "nbformat": 4,
 "nbformat_minor": 0
}
