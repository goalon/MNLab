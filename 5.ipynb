{
 "cells": [
  {
   "cell_type": "code",
   "execution_count": 1,
   "metadata": {
    "collapsed": true
   },
   "outputs": [],
   "source": [
    "# 5.1.\n",
    "\n",
    "\n",
    "from typing import Callable, List, Union\n",
    "\n",
    "\n",
    "def newton(\n",
    "        fun: Callable[[float], float],\n",
    "        der: Union[Callable[[float], float], float],\n",
    "        x0: float,\n",
    "        iter_num: int\n",
    ") -> List[float]:\n",
    "    if not callable(der):\n",
    "        h = der\n",
    "        \n",
    "        def der(x):\n",
    "            return (fun(x + h) - fun(x)) / h\n",
    "        \n",
    "    x_prev = x0\n",
    "    x_next = x_prev - fun(x_prev) / der(x_prev)\n",
    "    y = [x_prev, x_next]\n",
    "    x_prev = x_next\n",
    "    for i in range(iter_num - 1):\n",
    "        x_next = x_prev - fun(x_prev) / der(x_prev)\n",
    "        y.append(x_next)\n",
    "        x_prev = x_next\n",
    "    \n",
    "    return y"
   ]
  },
  {
   "cell_type": "code",
   "execution_count": 2,
   "metadata": {},
   "outputs": [
    {
     "name": "stdout",
     "output_type": "stream",
     "text": [
      "[50, 37.83783783783784, 28.725256475504246, 21.903363796700255, 16.804576999203295, 13.005700116056445, 10.193386254788258, 8.139412227310661, 6.684036829293135, 5.724934673817366, 5.199575062508354, 5.020607869819255, 5.000250677830219, 5.000000037696065, 5.000000000000001, 5.0]\n"
     ]
    }
   ],
   "source": [
    "# 5.2.\n",
    "\n",
    "\n",
    "def f1(x: float) -> float:\n",
    "    return x ** 3 * (x - 5)\n",
    "\n",
    "\n",
    "def d1(x: float) -> float:\n",
    "    return x ** 2 * (4 * x - 15)\n",
    "\n",
    "\n",
    "print(newton(f1, d1, 50, 15))"
   ]
  },
  {
   "cell_type": "code",
   "execution_count": 3,
   "metadata": {},
   "outputs": [
    {
     "name": "stdout",
     "output_type": "stream",
     "text": [
      "[50, 38.02360467675576, 29.049531550812024, 22.330216200846237, 17.306200651437855, 13.55966428010066, 10.779847598692031, 8.737482794052053, 7.265904737079372, 6.246327501648965, 5.592999357487152, 5.23146750533396, 5.073018156639497]\n"
     ]
    }
   ],
   "source": [
    "# 5.3.\n",
    "\n",
    "\n",
    "print(newton(f1, 0.5, 50, 12))"
   ]
  },
  {
   "cell_type": "code",
   "execution_count": 19,
   "metadata": {},
   "outputs": [
    {
     "name": "stdout",
     "output_type": "stream",
     "text": [
      "[-3, -33.0, -3333.0, -33333333.0, -3333333333333333.5, -3.3333333333333347e+31, -3.333333333333336e+63, -3.333333333333339e+127, -3.333333333333344e+255]\n[0.01, 0.019700000000000002, 0.03823573000000001, 0.07208554685410132, 0.12858211551243814, 0.20756414973591433, 0.2858796707050495, 0.32657778304281637, 0.3331964209541502]\n[0.62, 0.08679999999999999, 0.15099727999999998, 0.2335940242978048, 0.30348954403267936, 0.33066137805386786, 0.33331191529828696, 0.33333333195713666, 0.3333333333333333]\n[1, -1.0, -5.0, -85.0, -21844.999999999996, -1431655764.9999995, -6.148914691236513e+18, -1.1342745564031266e+38, -3.8597363079105293e+76]\n"
     ]
    }
   ],
   "source": [
    "# 5.4.\n",
    "\n",
    "\n",
    "def f2(x: float) -> float:\n",
    "    return 1 / x - 3\n",
    "\n",
    "\n",
    "def d2(x: float) -> float:\n",
    "    return -1 / x ** 2\n",
    "\n",
    "\n",
    "x0s = [-3, 0.01, 0.62, 1]\n",
    "\n",
    "\n",
    "for x0 in x0s:\n",
    "    print(newton(f2, d2, x0, 8))"
   ]
  },
  {
   "cell_type": "code",
   "execution_count": 5,
   "metadata": {},
   "outputs": [],
   "source": [
    "# 5.5.\n",
    "\n",
    "\n",
    "from numpy import sign\n",
    "\n",
    "\n",
    "def bisection(\n",
    "        fun: Callable[[float], float],\n",
    "        a: float,\n",
    "        b: float,\n",
    "        iter_num: int\n",
    ") -> List[float]:\n",
    "    x = [(a + b) / 2]\n",
    "    for i in range(iter_num):\n",
    "        if sign(fun(x[-1])) != sign(fun(a)):\n",
    "            b = x[-1]\n",
    "        else:\n",
    "            a = x[-1]\n",
    "        x.append((a + b) / 2)\n",
    "    \n",
    "    return x"
   ]
  },
  {
   "cell_type": "code",
   "execution_count": 9,
   "metadata": {},
   "outputs": [
    {
     "name": "stdout",
     "output_type": "stream",
     "text": [
      "[0.0, 2.5, 1.25, 1.875, 1.5625, 1.40625, 1.484375, 1.5234375, 1.50390625, 1.494140625, 1.4990234375, 1.50146484375, 1.500244140625, 1.4996337890625, 1.49993896484375, 1.500091552734375, 1.5000152587890625, 1.4999771118164062, 1.4999961853027344, 1.5000057220458984, 1.5000009536743164]\n"
     ]
    }
   ],
   "source": [
    "# 5.6.\n",
    "\n",
    "\n",
    "from numpy import e\n",
    "\n",
    "\n",
    "def f3(x: float) -> float:\n",
    "    return (x - 1.5) * e ** x\n",
    "\n",
    "\n",
    "print(bisection(f3, -5, 5, 20))"
   ]
  },
  {
   "cell_type": "code",
   "execution_count": null,
   "metadata": {},
   "outputs": [],
   "source": []
  }
 ],
 "metadata": {
  "kernelspec": {
   "display_name": "Python 2",
   "language": "python",
   "name": "python2"
  },
  "language_info": {
   "codemirror_mode": {
    "name": "ipython",
    "version": 2
   },
   "file_extension": ".py",
   "mimetype": "text/x-python",
   "name": "python",
   "nbconvert_exporter": "python",
   "pygments_lexer": "ipython2",
   "version": "2.7.6"
  }
 },
 "nbformat": 4,
 "nbformat_minor": 0
}
